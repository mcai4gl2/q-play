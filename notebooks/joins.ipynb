{
 "cells": [
  {
   "cell_type": "code",
   "execution_count": 1,
   "id": "blocked-ordinance",
   "metadata": {},
   "outputs": [],
   "source": [
    "prices:flip `utc`sym`price!(\n",
    "    2020.01.31D01:00:00.000000000 2020.01.31D02:00:00.000000000 2020.01.31D03:00:00.000000000 2020.01.31D04:00:00.000000000;\n",
    "    `TSLA`MSFT`TSLA`MSFT;\n",
    "    600f,200f,601f,195f)"
   ]
  },
  {
   "cell_type": "code",
   "execution_count": 2,
   "id": "polished-activation",
   "metadata": {},
   "outputs": [],
   "source": [
    "trades:flip `utc`sym`tradedPrice!(\n",
    "    2020.01.31D01:00:00.000000000 2020.01.31D02:00:00.000000000;\n",
    "    `TSLA`TSLA;\n",
    "    595f,605f)"
   ]
  },
  {
   "cell_type": "code",
   "execution_count": 3,
   "id": "satisfied-harvest",
   "metadata": {},
   "outputs": [
    {
     "data": {
      "text/plain": [
       "utc                           sym  price\n",
       "----------------------------------------\n",
       "2020.01.31D01:00:00.000000000 TSLA 600  \n",
       "2020.01.31D02:00:00.000000000 MSFT 200  \n",
       "2020.01.31D03:00:00.000000000 TSLA 601  \n",
       "2020.01.31D04:00:00.000000000 MSFT 195  \n"
      ]
     },
     "execution_count": 3,
     "metadata": {},
     "output_type": "execute_result"
    }
   ],
   "source": [
    "prices"
   ]
  },
  {
   "cell_type": "code",
   "execution_count": 4,
   "id": "announced-tournament",
   "metadata": {},
   "outputs": [
    {
     "data": {
      "text/plain": [
       "utc                           sym  tradedPrice\n",
       "----------------------------------------------\n",
       "2020.01.31D01:00:00.000000000 TSLA 595        \n",
       "2020.01.31D02:00:00.000000000 TSLA 605        \n"
      ]
     },
     "execution_count": 4,
     "metadata": {},
     "output_type": "execute_result"
    }
   ],
   "source": [
    "trades"
   ]
  },
  {
   "cell_type": "code",
   "execution_count": 5,
   "id": "underlying-queens",
   "metadata": {},
   "outputs": [
    {
     "data": {
      "text/plain": [
       "utc                           sym  tradedPrice price\n",
       "----------------------------------------------------\n",
       "2020.01.31D01:00:00.000000000 TSLA 595         600  \n",
       "2020.01.31D02:00:00.000000000 TSLA 605         600  \n"
      ]
     },
     "execution_count": 5,
     "metadata": {},
     "output_type": "execute_result"
    }
   ],
   "source": [
    "aj[`sym`utc;trades;prices]"
   ]
  },
  {
   "cell_type": "code",
   "execution_count": 6,
   "id": "enormous-imagination",
   "metadata": {},
   "outputs": [],
   "source": [
    "prices: `utc`sym xasc flip `utc`sym`price!(\n",
    "    2020.01.31D03:00:00.000000000 2020.01.31D02:00:00.000000000 2020.01.31D01:00:00.000000000 2020.01.31D04:00:00.000000000;\n",
    "    `TSLA`MSFT`TSLA`MSFT;\n",
    "    600f,200f,601f,195f)"
   ]
  },
  {
   "cell_type": "code",
   "execution_count": 7,
   "id": "sweet-remark",
   "metadata": {},
   "outputs": [
    {
     "data": {
      "text/plain": [
       "utc                           sym  tradedPrice price\n",
       "----------------------------------------------------\n",
       "2020.01.31D01:00:00.000000000 TSLA 595         601  \n",
       "2020.01.31D02:00:00.000000000 TSLA 605         601  \n"
      ]
     },
     "execution_count": 7,
     "metadata": {},
     "output_type": "execute_result"
    }
   ],
   "source": [
    "aj[`sym`utc;trades;prices]"
   ]
  },
  {
   "cell_type": "code",
   "execution_count": 8,
   "id": "latter-stress",
   "metadata": {},
   "outputs": [
    {
     "data": {
      "text/plain": [
       "utc                           sym  tradedPrice price\n",
       "----------------------------------------------------\n",
       "2020.01.31D01:00:00.000000000 TSLA 595         601  \n",
       "2020.01.31D01:00:00.000000000 TSLA 605         601  \n"
      ]
     },
     "execution_count": 8,
     "metadata": {},
     "output_type": "execute_result"
    }
   ],
   "source": [
    "aj0[`sym`utc;trades;prices]"
   ]
  }
 ],
 "metadata": {
  "kernelspec": {
   "display_name": "Q (kdb+)",
   "language": "q",
   "name": "qpk"
  },
  "language_info": {
   "file_extension": ".q",
   "mimetype": "text/x-q",
   "name": "q",
   "version": "3.6.0"
  }
 },
 "nbformat": 4,
 "nbformat_minor": 5
}
