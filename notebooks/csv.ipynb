{
 "cells": [
  {
   "cell_type": "markdown",
   "id": "breeding-order",
   "metadata": {},
   "source": [
    "#### Loading a csv file"
   ]
  },
  {
   "cell_type": "code",
   "execution_count": 1,
   "id": "simple-ferry",
   "metadata": {},
   "outputs": [],
   "source": [
    "/ loading csv contents into a list\n",
    "lines: read0 `$\"data/SPY_20190101_20210402.csv\""
   ]
  },
  {
   "cell_type": "code",
   "execution_count": 2,
   "id": "brutal-commonwealth",
   "metadata": {},
   "outputs": [],
   "source": [
    "/ Ignoring the lines starting with # as it suppose to be comment\n",
    "lines: lines where not lines like \"#*\""
   ]
  },
  {
   "cell_type": "code",
   "execution_count": 3,
   "id": "norwegian-robinson",
   "metadata": {},
   "outputs": [],
   "source": [
    "/ Loading lines into a table. Using * to load first column (date) as string instead of symbol\n",
    "t:(\"*FFFFIF\";enlist\",\") 0: lines"
   ]
  },
  {
   "cell_type": "code",
   "execution_count": 4,
   "id": "accepted-element",
   "metadata": {},
   "outputs": [],
   "source": [
    "/ Converting the date column from string to datetime (alternatively could load as P above instead of *)\n",
    "t: update \"P\"$date from t"
   ]
  },
  {
   "cell_type": "code",
   "execution_count": 5,
   "id": "sweet-genome",
   "metadata": {},
   "outputs": [
    {
     "data": {
      "text/plain": [
       "date                          open   high   low    close  volume    adjclose\n",
       "----------------------------------------------------------------------------\n",
       "2019.01.02D00:00:00.000000000 245.98 251.21 245.95 250.18 126925200 240.2426\n",
       "2019.01.03D00:00:00.000000000 248.23 248.57 243.67 244.21 144140700 234.5098\n",
       "2019.01.04D00:00:00.000000000 247.59 253.11 247.17 252.39 142628800 242.3649\n",
       "2019.01.07D00:00:00.000000000 252.69 255.95 251.69 254.38 103139100 244.2758\n",
       "2019.01.08D00:00:00.000000000 256.82 257.31 254    256.77 102512600 246.5709\n",
       "2019.01.09D00:00:00.000000000 257.56 258.91 256.19 257.97 95006600  247.7232\n",
       "2019.01.10D00:00:00.000000000 256.26 259.16 255.5  258.88 96823900  248.5971\n",
       "2019.01.11D00:00:00.000000000 257.68 259.01 257.03 258.98 73858100  248.6931\n",
       "2019.01.14D00:00:00.000000000 256.86 258.3  256.41 257.4  70908200  247.1759\n",
       "2019.01.15D00:00:00.000000000 257.82 260.7  257.81 260.35 85208300  250.0087\n",
       "2019.01.16D00:00:00.000000000 260.83 261.97 260.6  260.98 77636700  250.6136\n",
       "2019.01.17D00:00:00.000000000 260.01 263.92 259.96 262.96 96118400  252.515 \n",
       "2019.01.18D00:00:00.000000000 264.98 266.98 263    266.46 127900300 255.876 \n",
       "2019.01.22D00:00:00.000000000 264.82 265.06 261.06 262.86 115531200 252.419 \n",
       "2019.01.23D00:00:00.000000000 264.01 264.79 260.66 263.41 86030300  252.9471\n",
       "2019.01.24D00:00:00.000000000 263.21 264.2  262.08 263.55 59204100  253.0815\n",
       "2019.01.25D00:00:00.000000000 265.61 266.7  263.66 265.78 96883400  255.223 \n",
       "2019.01.28D00:00:00.000000000 263.39 263.83 261.79 263.76 85613700  253.2832\n",
       "2019.01.29D00:00:00.000000000 263.92 264.55 262.48 263.41 66136300  252.9471\n",
       "2019.01.30D00:00:00.000000000 265.1  268.52 264.25 267.58 92473700  256.9515\n",
       "..\n"
      ]
     },
     "execution_count": 5,
     "metadata": {},
     "output_type": "execute_result"
    }
   ],
   "source": [
    "t"
   ]
  }
 ],
 "metadata": {
  "kernelspec": {
   "display_name": "Q (kdb+)",
   "language": "q",
   "name": "qpk"
  },
  "language_info": {
   "file_extension": ".q",
   "mimetype": "text/x-q",
   "name": "q",
   "version": "3.6.0"
  }
 },
 "nbformat": 4,
 "nbformat_minor": 5
}
